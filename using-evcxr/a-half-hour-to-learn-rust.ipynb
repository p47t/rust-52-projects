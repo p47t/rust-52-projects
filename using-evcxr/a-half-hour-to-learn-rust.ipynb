{
 "cells": [
  {
   "cell_type": "markdown",
   "metadata": {},
   "source": [
    "All the code examples come from [A half-hour to learn Rust - fasterthanli.me](https://fasterthanli.me/articles/a-half-hour-to-learn-rust)"
   ]
  },
  {
   "cell_type": "code",
   "execution_count": 21,
   "metadata": {},
   "outputs": [
    {
     "data": {
      "text/plain": [
       "0.7.0\n"
      ]
     },
     "execution_count": 21,
     "metadata": {},
     "output_type": "execute_result"
    }
   ],
   "source": [
    ":version"
   ]
  },
  {
   "cell_type": "code",
   "execution_count": 2,
   "metadata": {},
   "outputs": [],
   "source": [
    "let x; // declare \"x\"\n",
    "x = 42;"
   ]
  },
  {
   "cell_type": "code",
   "execution_count": 3,
   "metadata": {},
   "outputs": [],
   "source": [
    "let x = 42; // assign 42 to \"x\""
   ]
  },
  {
   "cell_type": "code",
   "execution_count": 4,
   "metadata": {},
   "outputs": [],
   "source": [
    "let x: i32; // `i32` is a signed 32-bit integer\n",
    "x = 42;\n",
    "\n",
    "// there's i8, i16, i32, i64, i128\n",
    "//    also u8, u16, u32, u64, u128 for unsigned"
   ]
  },
  {
   "cell_type": "code",
   "execution_count": 5,
   "metadata": {},
   "outputs": [],
   "source": [
    "let x: i32 = 42;"
   ]
  },
  {
   "cell_type": "code",
   "execution_count": 6,
   "metadata": {},
   "outputs": [
    {
     "ename": "Error",
     "evalue": "use of possibly-uninitialized variable: `x`",
     "output_type": "error",
     "traceback": [
      "add_one(x); // error: borrow of possibly-uninitialized variable: `x`",
      "\u001b[91m        ^\u001b[0m \u001b[94muse of possibly-uninitialized `x`\u001b[0m",
      "use of possibly-uninitialized variable: `x`"
     ]
    }
   ],
   "source": [
    "fn add_one(x: i32) -> i32 { x + 1 }\n",
    "\n",
    "let x;\n",
    "add_one(x); // error: borrow of possibly-uninitialized variable: `x`\n",
    "x = 42;"
   ]
  },
  {
   "cell_type": "code",
   "execution_count": 7,
   "metadata": {},
   "outputs": [],
   "source": [
    "fn add_one(x: i32) -> i32 { x + 1 }\n",
    "\n",
    "let x;\n",
    "x = 42;\n",
    "add_one(x); // the type of `x` will be inferred from here"
   ]
  },
  {
   "cell_type": "code",
   "execution_count": 8,
   "metadata": {},
   "outputs": [],
   "source": [
    "fn get_thing() -> i32 { 0 }\n",
    "\n",
    "// this does *nothing* because 42 is a constant\n",
    "let _ = 42;\n",
    "\n",
    "// this calls `get_thing` but throws away its result\n",
    "let _ = get_thing();"
   ]
  },
  {
   "cell_type": "code",
   "execution_count": 9,
   "metadata": {},
   "outputs": [],
   "source": [
    "// we may use `_x` eventually, but our code is a work-in-progress\n",
    "// and we just wanted to get rid of a compiler warning for now.\n",
    "let _x = 42;"
   ]
  },
  {
   "cell_type": "code",
   "execution_count": 10,
   "metadata": {},
   "outputs": [
    {
     "data": {
      "text/plain": [
       "16"
      ]
     },
     "execution_count": 10,
     "metadata": {},
     "output_type": "execute_result"
    }
   ],
   "source": [
    "let x = 13;\n",
    "let x = x + 3;\n",
    "// using `x` after that line only refers to the second `x`,\n",
    "// the first `x` no longer exists.\n",
    "x"
   ]
  },
  {
   "cell_type": "code",
   "execution_count": 11,
   "metadata": {},
   "outputs": [
    {
     "data": {
      "text/plain": [
       "('a', 17)"
      ]
     },
     "execution_count": 11,
     "metadata": {},
     "output_type": "execute_result"
    }
   ],
   "source": [
    "let pair = ('a', 17);\n",
    "(pair.0, pair.1)"
   ]
  },
  {
   "cell_type": "code",
   "execution_count": 12,
   "metadata": {},
   "outputs": [],
   "source": [
    "let pair: (char, i32) = ('a', 17);"
   ]
  },
  {
   "cell_type": "code",
   "execution_count": 13,
   "metadata": {},
   "outputs": [
    {
     "data": {
      "text/plain": [
       "('a', 17)"
      ]
     },
     "execution_count": 13,
     "metadata": {},
     "output_type": "execute_result"
    }
   ],
   "source": [
    "let (some_char, some_int) = ('a', 17);\n",
    "// now, `some_char` is 'a', and `some_int` is 17\n",
    "(some_char, some_int)"
   ]
  },
  {
   "cell_type": "code",
   "execution_count": 14,
   "metadata": {},
   "outputs": [
    {
     "data": {
      "text/plain": [
       "([1, 2], [3, 4, 5])"
      ]
     },
     "execution_count": 14,
     "metadata": {},
     "output_type": "execute_result"
    }
   ],
   "source": [
    "let slice = &[1, 2, 3, 4, 5];\n",
    "let (left, right) = slice.split_at(2);\n",
    "(left, right)"
   ]
  },
  {
   "cell_type": "code",
   "execution_count": 15,
   "metadata": {},
   "outputs": [
    {
     "data": {
      "text/plain": [
       "[4, 5]"
      ]
     },
     "execution_count": 15,
     "metadata": {},
     "output_type": "execute_result"
    }
   ],
   "source": [
    "let slice = &[1, 2, 3, 4, 5];\n",
    "let (_, right) = slice.split_at(3);\n",
    "right"
   ]
  },
  {
   "cell_type": "code",
   "execution_count": 16,
   "metadata": {},
   "outputs": [
    {
     "data": {
      "text/plain": [
       "8"
      ]
     },
     "execution_count": 16,
     "metadata": {},
     "output_type": "execute_result"
    }
   ],
   "source": [
    "let x = 3;\n",
    "let y = 5;\n",
    "let z = y + x;\n",
    "z"
   ]
  },
  {
   "cell_type": "code",
   "execution_count": 17,
   "metadata": {},
   "outputs": [
    {
     "data": {
      "text/plain": [
       "60"
      ]
     },
     "execution_count": 17,
     "metadata": {},
     "output_type": "execute_result"
    }
   ],
   "source": [
    "let x = vec![1, 2, 3, 4, 5, 6, 7, 8]\n",
    "    .iter()\n",
    "    .map(|x| x + 3)\n",
    "    .fold(0, |x, y| x + y);\n",
    "x"
   ]
  },
  {
   "cell_type": "code",
   "execution_count": 18,
   "metadata": {},
   "outputs": [
    {
     "name": "stdout",
     "output_type": "stream",
     "text": [
      "Hi there!\n"
     ]
    }
   ],
   "source": [
    "fn greet() {\n",
    "    println!(\"Hi there!\");\n",
    "}\n",
    "greet();"
   ]
  },
  {
   "cell_type": "code",
   "execution_count": 19,
   "metadata": {},
   "outputs": [
    {
     "data": {
      "text/plain": [
       "4"
      ]
     },
     "execution_count": 19,
     "metadata": {},
     "output_type": "execute_result"
    }
   ],
   "source": [
    "fn fair_dice_roll() -> i32 {\n",
    "    4\n",
    "}\n",
    "fair_dice_roll()"
   ]
  },
  {
   "cell_type": "code",
   "execution_count": 20,
   "metadata": {},
   "outputs": [
    {
     "name": "stdout",
     "output_type": "stream",
     "text": [
      "in\n",
      "out\n"
     ]
    },
    {
     "data": {
      "text/plain": [
       "()"
      ]
     },
     "execution_count": 20,
     "metadata": {},
     "output_type": "execute_result"
    }
   ],
   "source": [
    "// This prints \"in\", then \"out\"\n",
    "fn main() {\n",
    "    let x = \"out\";\n",
    "    {\n",
    "        let x = \"in\";\n",
    "        println!(\"{}\", x);\n",
    "    }\n",
    "    println!(\"{}\", x);\n",
    "}\n",
    "main()"
   ]
  },
  {
   "cell_type": "code",
   "execution_count": 21,
   "metadata": {},
   "outputs": [
    {
     "data": {
      "text/plain": [
       "42"
      ]
     },
     "execution_count": 21,
     "metadata": {},
     "output_type": "execute_result"
    }
   ],
   "source": [
    "let x = 42;\n",
    "let x = { 42 };\n",
    "x"
   ]
  },
  {
   "cell_type": "code",
   "execution_count": 22,
   "metadata": {},
   "outputs": [
    {
     "data": {
      "text/plain": [
       "3"
      ]
     },
     "execution_count": 22,
     "metadata": {},
     "output_type": "execute_result"
    }
   ],
   "source": [
    "let x = {\n",
    "    let y = 1;\n",
    "    let z = 2;\n",
    "    y + z\n",
    "};\n",
    "x"
   ]
  },
  {
   "cell_type": "code",
   "execution_count": 23,
   "metadata": {},
   "outputs": [
    {
     "data": {
      "text/plain": [
       "5"
      ]
     },
     "execution_count": 23,
     "metadata": {},
     "output_type": "execute_result"
    }
   ],
   "source": [
    "fn fair_dice_roll() -> i32 {\n",
    "    return 4;\n",
    "}\n",
    "\n",
    "fn fair_dice_roll() -> i32 {\n",
    "    5\n",
    "}\n",
    "\n",
    "fair_dice_roll()"
   ]
  },
  {
   "cell_type": "code",
   "execution_count": 24,
   "metadata": {},
   "outputs": [
    {
     "data": {
      "text/plain": [
       "(6, 4)"
      ]
     },
     "execution_count": 24,
     "metadata": {},
     "output_type": "execute_result"
    }
   ],
   "source": [
    "fn fair_dice_roll(feeling_lucky: bool) -> i32 {\n",
    "    if feeling_lucky {\n",
    "        6\n",
    "    } else {\n",
    "        4\n",
    "    }\n",
    "}\n",
    "(fair_dice_roll(true), fair_dice_roll(false))"
   ]
  },
  {
   "cell_type": "code",
   "execution_count": 25,
   "metadata": {},
   "outputs": [
    {
     "data": {
      "text/plain": [
       "(6, 4)"
      ]
     },
     "execution_count": 25,
     "metadata": {},
     "output_type": "execute_result"
    }
   ],
   "source": [
    "fn fair_dice_roll(feeling_lucky: bool) -> i32 {\n",
    "    match feeling_lucky {\n",
    "        true => 6,\n",
    "        false => 4,\n",
    "    }\n",
    "}\n",
    "(fair_dice_roll(true), fair_dice_roll(false))"
   ]
  },
  {
   "cell_type": "code",
   "execution_count": 26,
   "metadata": {},
   "outputs": [
    {
     "data": {
      "text/plain": [
       "14"
      ]
     },
     "execution_count": 26,
     "metadata": {},
     "output_type": "execute_result"
    }
   ],
   "source": [
    "let nick = \"fasterthanlime\";\n",
    "nick.len()"
   ]
  },
  {
   "cell_type": "code",
   "execution_count": 27,
   "metadata": {},
   "outputs": [
    {
     "data": {
      "text/plain": [
       "3"
      ]
     },
     "execution_count": 27,
     "metadata": {},
     "output_type": "execute_result"
    }
   ],
   "source": [
    "let least = std::cmp::min(3, 8);\n",
    "least"
   ]
  },
  {
   "cell_type": "code",
   "execution_count": 28,
   "metadata": {},
   "outputs": [
    {
     "data": {
      "text/plain": [
       "1"
      ]
     },
     "execution_count": 28,
     "metadata": {},
     "output_type": "execute_result"
    }
   ],
   "source": [
    "use std::cmp::min;\n",
    "let least = min(7, 1);\n",
    "least"
   ]
  },
  {
   "cell_type": "code",
   "execution_count": 29,
   "metadata": {},
   "outputs": [],
   "source": [
    "use std::cmp::min;\n",
    "use std::cmp::max;\n",
    "use std::cmp::{min, max};\n",
    "use std::{cmp::min, cmp::max};"
   ]
  },
  {
   "cell_type": "code",
   "execution_count": 30,
   "metadata": {},
   "outputs": [],
   "source": [
    "use std::cmp::*;"
   ]
  },
  {
   "cell_type": "code",
   "execution_count": 31,
   "metadata": {},
   "outputs": [
    {
     "data": {
      "text/plain": [
       "4"
      ]
     },
     "execution_count": 31,
     "metadata": {},
     "output_type": "execute_result"
    }
   ],
   "source": [
    "let x = \"amos\".len();\n",
    "let x = str::len(\"amos\");\n",
    "x"
   ]
  },
  {
   "cell_type": "code",
   "execution_count": 32,
   "metadata": {},
   "outputs": [
    {
     "data": {
      "text/plain": [
       "[2]"
      ]
     },
     "execution_count": 32,
     "metadata": {},
     "output_type": "execute_result"
    }
   ],
   "source": [
    "let mut v = Vec::new();\n",
    "v.push(1);\n",
    "let mut v = std::vec::Vec::new();\n",
    "v.push(2);\n",
    "v"
   ]
  },
  {
   "cell_type": "code",
   "execution_count": 33,
   "metadata": {},
   "outputs": [
    {
     "data": {
      "text/plain": [
       "(Vec2 { x: 1.0, y: 3.0 }, Vec2 { x: 4.0, y: 2.0 }, Vec2 { x: 14.0, y: 2.0 }, Vec2 { x: 14.0, y: 2.0 })"
      ]
     },
     "execution_count": 33,
     "metadata": {},
     "output_type": "execute_result"
    }
   ],
   "source": [
    "#[derive(Debug)]\n",
    "struct Vec2 {\n",
    "    x: f64,\n",
    "    y: f64,\n",
    "}\n",
    "let v1 = Vec2 { x: 1.0, y: 3.0 };\n",
    "let v2 = Vec2 { y: 2.0, x: 4.0 };\n",
    "let v3 = Vec2 { x: 14.0, ..v2 };\n",
    "let v4 = Vec2 { ..v3 };\n",
    "\n",
    "(v1, v2, v3, v4)"
   ]
  },
  {
   "cell_type": "code",
   "execution_count": 34,
   "metadata": {},
   "outputs": [
    {
     "data": {
      "text/plain": [
       "(3.0, 6.0)"
      ]
     },
     "execution_count": 34,
     "metadata": {},
     "output_type": "execute_result"
    }
   ],
   "source": [
    "struct Vec2 {\n",
    "    x: f64,\n",
    "    y: f64,\n",
    "}\n",
    "let v = Vec2 { x: 3.0, y: 6.0 };\n",
    "let Vec2 { x, y } = v;\n",
    "\n",
    "(x, y)"
   ]
  },
  {
   "cell_type": "code",
   "execution_count": 35,
   "metadata": {},
   "outputs": [
    {
     "data": {
      "text/plain": [
       "6.0"
      ]
     },
     "execution_count": 35,
     "metadata": {},
     "output_type": "execute_result"
    }
   ],
   "source": [
    "struct Vec2 {\n",
    "    x: f64,\n",
    "    y: f64,\n",
    "}\n",
    "let v = Vec2 { x: 3.0, y: 6.0 };\n",
    "let Vec2 { y, .. } = v;\n",
    "\n",
    "y"
   ]
  },
  {
   "cell_type": "code",
   "execution_count": 2,
   "metadata": {},
   "outputs": [],
   "source": [
    "#[derive(Debug)]\n",
    "struct Number {\n",
    "    odd: bool,\n",
    "    value: i32,\n",
    "}"
   ]
  },
  {
   "cell_type": "code",
   "execution_count": 4,
   "metadata": {},
   "outputs": [
    {
     "name": "stdout",
     "output_type": "stream",
     "text": [
      "Odd number: 1\n",
      "Even number: 2\n"
     ]
    }
   ],
   "source": [
    "fn print_number(n: Number) {\n",
    "    if let Number { odd: true, value } = n {\n",
    "        println!(\"Odd number: {}\", value);\n",
    "    } else if let Number { odd: false, value } = n {\n",
    "        println!(\"Even number: {}\", value);\n",
    "    }\n",
    "}\n",
    "\n",
    "let one = Number {odd: true, value: 1};\n",
    "let two = Number {odd: false, value: 2};\n",
    "print_number(one);\n",
    "print_number(two);"
   ]
  },
  {
   "cell_type": "code",
   "execution_count": 37,
   "metadata": {},
   "outputs": [
    {
     "name": "stdout",
     "output_type": "stream",
     "text": [
      "Odd number: 1\n",
      "Even number: 2\n"
     ]
    }
   ],
   "source": [
    "fn print_number(n: Number) {\n",
    "    match n {\n",
    "        Number {odd: true, value} => println!(\"Odd number: {}\", value),\n",
    "        Number {odd: false, value} => println!(\"Even number: {}\", value),\n",
    "        Number {odd, value} => println!(\"Unknown number: {}\", value),\n",
    "    }\n",
    "}\n",
    "let one = Number {odd: true, value: 1};\n",
    "let two = Number {odd: false, value: 2};\n",
    "print_number(one);\n",
    "print_number(two);"
   ]
  },
  {
   "cell_type": "code",
   "execution_count": 38,
   "metadata": {},
   "outputs": [
    {
     "ename": "Error",
     "evalue": "non-exhaustive patterns: `Number { value: i32::MIN..=0_i32, .. }` and `Number { value: 3_i32..=i32::MAX, .. }` not covered",
     "output_type": "error",
     "traceback": [
      "    match n {",
      "\u001b[91m          ^\u001b[0m \u001b[94mpatterns `Number { value: i32::MIN..=0_i32, .. }` and `Number { value: 3_i32..=i32::MAX, .. }` not covered\u001b[0m",
      "struct Number {",
      "    odd: bool,",
      "    value: i32,",
      "}",
      "\u001b[91m^\u001b[0m \u001b[94m`Number` defined here\u001b[0m",
      "non-exhaustive patterns: `Number { value: i32::MIN..=0_i32, .. }` and `Number { value: 3_i32..=i32::MAX, .. }` not covered"
     ]
    }
   ],
   "source": [
    "fn print_number(n: Number) {\n",
    "    match n {\n",
    "        Number {value: 1, ..} => println!(\"One\"),\n",
    "        Number {value: 2, ..} => println!(\"Two\"),\n",
    "        // Number {value, ..} => println!(\"{}\", value),\n",
    "        // if that last arm didn't exist, we would get a compile-time error\n",
    "    }\n",
    "}"
   ]
  },
  {
   "cell_type": "code",
   "execution_count": 39,
   "metadata": {},
   "outputs": [
    {
     "name": "stdout",
     "output_type": "stream",
     "text": [
      "Two\n"
     ]
    }
   ],
   "source": [
    "#[derive(Default)]\n",
    "struct Number {\n",
    "    odd: bool,\n",
    "    value: i32,\n",
    "}\n",
    "\n",
    "fn print_number(n: Number) {\n",
    "    match n.value {\n",
    "        1 => println!(\"One\"),\n",
    "        2 => println!(\"Two\"),\n",
    "        _ => println!(\"{}\", n.value),\n",
    "    }\n",
    "}\n",
    "let n = Number{value: 2, ..Default::default()};\n",
    "print_number(n);"
   ]
  },
  {
   "cell_type": "code",
   "execution_count": 40,
   "metadata": {},
   "outputs": [
    {
     "name": "stdout",
     "output_type": "stream",
     "text": [
      "positive? false\n"
     ]
    }
   ],
   "source": [
    "struct Number {\n",
    "    odd: bool,\n",
    "    value: i32,\n",
    "}\n",
    "impl Number {\n",
    "    fn is_strictly_positive(self) -> bool {\n",
    "        self.value > 0\n",
    "    }\n",
    "}\n",
    "\n",
    "let minus_two = Number { odd: false, value: -2, };\n",
    "println!(\"positive? {}\", minus_two.is_strictly_positive());"
   ]
  },
  {
   "cell_type": "code",
   "execution_count": 41,
   "metadata": {},
   "outputs": [
    {
     "ename": "Error",
     "evalue": "cannot assign to `n.odd`, as `n` is not declared as mutable",
     "output_type": "error",
     "traceback": [
      "n.odd = false; // error: cannot assign to `n.odd`, as `n` is not declared to be mutable",
      "\u001b[91m^^^^^^^^^^^^^\u001b[0m \u001b[94mcannot assign\u001b[0m",
      "cannot assign to `n.odd`, as `n` is not declared as mutable"
     ]
    }
   ],
   "source": [
    "let n = Number {\n",
    "    odd: true,\n",
    "    value: 17,\n",
    "};\n",
    "n.odd = false; // error: cannot assign to `n.odd`, as `n` is not declared to be mutable"
   ]
  },
  {
   "cell_type": "code",
   "execution_count": 42,
   "metadata": {},
   "outputs": [
    {
     "ename": "Error",
     "evalue": "value assigned to `n` is never read",
     "output_type": "error",
     "traceback": [
      "let n = Number {",
      "\u001b[91m    ^\u001b[0m \u001b[94m\u001b[0m",
      "value assigned to `n` is never read"
     ]
    },
    {
     "ename": "Error",
     "evalue": "cannot assign twice to immutable variable `n`",
     "output_type": "error",
     "traceback": [
      "let n = Number {",
      "\u001b[91m    ^\u001b[0m \u001b[94mfirst assignment to `n`\u001b[0m",
      "n = Number {",
      "    odd: false,",
      "    value: 32,",
      "}; // error: cannot assign twice to immutable variable `n`",
      "\u001b[91m^\u001b[0m \u001b[94mcannot assign twice to immutable variable\u001b[0m",
      "cannot assign twice to immutable variable `n`"
     ]
    }
   ],
   "source": [
    "let n = Number {\n",
    "    odd: true,\n",
    "    value: 17,\n",
    "};\n",
    "n = Number {\n",
    "    odd: false,\n",
    "    value: 32,\n",
    "}; // error: cannot assign twice to immutable variable `n`"
   ]
  },
  {
   "cell_type": "code",
   "execution_count": 43,
   "metadata": {},
   "outputs": [],
   "source": [
    "let mut n = Number {\n",
    "    odd: true,\n",
    "    value: 17,\n",
    "};\n",
    "n.value = 19; // all good"
   ]
  },
  {
   "cell_type": "code",
   "execution_count": 44,
   "metadata": {},
   "outputs": [],
   "source": [
    "trait Signed {\n",
    "    fn is_strictly_negative(self) -> bool;\n",
    "}"
   ]
  },
  {
   "cell_type": "code",
   "execution_count": 45,
   "metadata": {},
   "outputs": [
    {
     "data": {
      "text/plain": [
       "true"
      ]
     },
     "execution_count": 45,
     "metadata": {},
     "output_type": "execute_result"
    }
   ],
   "source": [
    "impl Signed for Number {\n",
    "    fn is_strictly_negative(self) -> bool {\n",
    "        self.value < 0\n",
    "    }\n",
    "}\n",
    "\n",
    "let n = Number {odd: false, value: -44};\n",
    "n.is_strictly_negative()"
   ]
  },
  {
   "cell_type": "code",
   "execution_count": 46,
   "metadata": {},
   "outputs": [
    {
     "data": {
      "text/plain": [
       "true"
      ]
     },
     "execution_count": 46,
     "metadata": {},
     "output_type": "execute_result"
    }
   ],
   "source": [
    "impl Signed for i32 {\n",
    "    fn is_strictly_negative(self) -> bool {\n",
    "        self < 0\n",
    "    }\n",
    "}\n",
    "let n = -44;\n",
    "n.is_strictly_negative()"
   ]
  },
  {
   "cell_type": "code",
   "execution_count": 4,
   "metadata": {},
   "outputs": [],
   "source": []
  },
  {
   "cell_type": "code",
   "execution_count": 4,
   "metadata": {},
   "outputs": [],
   "source": [
    "use std::ops::Neg;\n",
    "\n",
    "impl std::ops::Neg for Number {\n",
    "    type Output = Self;\n",
    "    fn neg(self) -> Self {\n",
    "        Self {\n",
    "            value: -self.value,\n",
    "            odd: self.odd,\n",
    "        }\n",
    "    }\n",
    "}"
   ]
  },
  {
   "cell_type": "code",
   "execution_count": 5,
   "metadata": {},
   "outputs": [
    {
     "data": {
      "text/plain": [
       "Number { odd: true, value: -5 }"
      ]
     },
     "execution_count": 5,
     "metadata": {},
     "output_type": "execute_result"
    }
   ],
   "source": [
    "let n = Number{odd: true, value: 5};\n",
    "let m = -n;\n",
    "m"
   ]
  },
  {
   "cell_type": "code",
   "execution_count": 6,
   "metadata": {},
   "outputs": [],
   "source": [
    "let a: i32 = 15;\n",
    "let b = a; // `a` is copied\n",
    "let c = a; // `a` is copied again"
   ]
  },
  {
   "cell_type": "code",
   "execution_count": 7,
   "metadata": {},
   "outputs": [
    {
     "name": "stdout",
     "output_type": "stream",
     "text": [
      "x = 15\n",
      "x = 15\n"
     ]
    }
   ],
   "source": [
    "fn print_i32(x: i32) {\n",
    "    println!(\"x = {}\", x);\n",
    "}\n",
    "\n",
    "let a: i32 = 15;\n",
    "print_i32(a);\n",
    "print_i32(a);"
   ]
  },
  {
   "cell_type": "code",
   "execution_count": 9,
   "metadata": {},
   "outputs": [
    {
     "ename": "Error",
     "evalue": "use of moved value: `n`",
     "output_type": "error",
     "traceback": [
      "let m = n; // `n` is moved into `m`",
      "\u001b[91m        ^\u001b[0m \u001b[94mvalue moved here\u001b[0m",
      "let o = n; // error: use of moved value: `n`",
      "\u001b[91m        ^\u001b[0m \u001b[94mvalue used here after move\u001b[0m",
      "let n = Number { odd: true, value: 51 };",
      "\u001b[91m    ^\u001b[0m \u001b[94mmove occurs because `n` has type `Number`, which does not implement the `Copy` trait\u001b[0m",
      "use of moved value: `n`"
     ]
    }
   ],
   "source": [
    "let n = Number { odd: true, value: 51 };\n",
    "let m = n; // `n` is moved into `m`\n",
    "let o = n; // error: use of moved value: `n`"
   ]
  },
  {
   "cell_type": "code",
   "execution_count": 11,
   "metadata": {},
   "outputs": [
    {
     "ename": "Error",
     "evalue": "use of moved value: `n`",
     "output_type": "error",
     "traceback": [
      "print_number(n);",
      "\u001b[91m             ^\u001b[0m \u001b[94mvalue moved here\u001b[0m",
      "print_number(n);",
      "\u001b[91m             ^\u001b[0m \u001b[94mvalue used here after move\u001b[0m",
      "let n = Number { odd: true, value: 51 };",
      "\u001b[91m    ^\u001b[0m \u001b[94mmove occurs because `n` has type `Number`, which does not implement the `Copy` trait\u001b[0m",
      "use of moved value: `n`"
     ]
    }
   ],
   "source": [
    "fn print_number(n: Number) {\n",
    "    println!(\"{} number {}\", if n.odd { \"odd\" } else { \"even\" }, n.value);\n",
    "}\n",
    "\n",
    "let n = Number { odd: true, value: 51 };\n",
    "print_number(n);\n",
    "print_number(n);"
   ]
  },
  {
   "cell_type": "code",
   "execution_count": 13,
   "metadata": {},
   "outputs": [
    {
     "name": "stdout",
     "output_type": "stream",
     "text": [
      "odd number 51\n",
      "odd number 51\n"
     ]
    }
   ],
   "source": [
    "fn print_number(n: &Number) {\n",
    "    println!(\"{} number {}\", if n.odd { \"odd\" } else { \"even\" }, n.value);\n",
    "}\n",
    "\n",
    "let n = Number { odd: true, value: 51 };\n",
    "print_number(&n);\n",
    "print_number(&n);"
   ]
  },
  {
   "cell_type": "code",
   "execution_count": 17,
   "metadata": {},
   "outputs": [
    {
     "name": "stdout",
     "output_type": "stream",
     "text": [
      "odd number 51\n",
      "odd number -51\n"
     ]
    }
   ],
   "source": [
    "fn print_number(n: &Number) {\n",
    "    println!(\"{} number {}\", if n.odd { \"odd\" } else { \"even\" }, n.value);\n",
    "}\n",
    "\n",
    "fn invert(n: &mut Number) {\n",
    "    n.value = -n.value;\n",
    "}\n",
    "\n",
    "let mut n = Number { odd: true, value: 51 };\n",
    "print_number(&n);\n",
    "invert(&mut n);\n",
    "print_number(&n);"
   ]
  },
  {
   "cell_type": "code",
   "execution_count": 20,
   "metadata": {},
   "outputs": [],
   "source": [
    "impl std::clone::Clone for Number {\n",
    "    fn clone(&self) -> Self {\n",
    "        Self{..*self}\n",
    "    }\n",
    "}"
   ]
  },
  {
   "cell_type": "code",
   "execution_count": 21,
   "metadata": {},
   "outputs": [
    {
     "name": "stdout",
     "output_type": "stream",
     "text": [
      "odd number 51\n",
      "odd number 151\n"
     ]
    }
   ],
   "source": [
    "let n = Number {odd: true, value: 51};\n",
    "let mut m = n.clone();\n",
    "m.value += 100;\n",
    "\n",
    "print_number(&n);\n",
    "print_number(&m);"
   ]
  },
  {
   "cell_type": "code",
   "execution_count": 23,
   "metadata": {},
   "outputs": [],
   "source": [
    "let m = n.clone();\n",
    "let m = std::clone::Clone::clone(&n);"
   ]
  },
  {
   "cell_type": "code",
   "execution_count": 24,
   "metadata": {},
   "outputs": [],
   "source": [
    "impl std::marker::Copy for Number {}"
   ]
  },
  {
   "cell_type": "code",
   "execution_count": 26,
   "metadata": {},
   "outputs": [],
   "source": [
    "let n = Number { odd: true, value: 51 };\n",
    "let m = n.clone();\n",
    "let o = n.clone();\n",
    "let m = n; // `m` is a copy of `n`\n",
    "let o = n; // same. `n` is neither moved nor borrowed."
   ]
  },
  {
   "cell_type": "code",
   "execution_count": 35,
   "metadata": {},
   "outputs": [
    {
     "data": {
      "text/plain": [
       "(MyNumber { odd: false, value: 0 }, MyNumber { odd: false, value: 0 }, MyNumber { odd: false, value: 0 })"
      ]
     },
     "execution_count": 35,
     "metadata": {},
     "output_type": "execute_result"
    }
   ],
   "source": [
    "#[derive(Clone, Copy, Default, Debug)]\n",
    "struct MyNumber {\n",
    "    odd: bool,\n",
    "    value: i32,\n",
    "}\n",
    "let n = MyNumber {..Default::default()};\n",
    "let m = n;\n",
    "let o = n;\n",
    "(n, m, o)"
   ]
  },
  {
   "cell_type": "code",
   "execution_count": 61,
   "metadata": {},
   "outputs": [],
   "source": [
    "fn foobar<T>(_arg: T) {\n",
    "    // do something with `arg`\n",
    "}"
   ]
  },
  {
   "cell_type": "code",
   "execution_count": 62,
   "metadata": {},
   "outputs": [],
   "source": [
    "fn foobar<L, R>(_left: L, _right: R) {\n",
    "    // do something with `left` and `right`\n",
    "}"
   ]
  },
  {
   "cell_type": "code",
   "execution_count": 39,
   "metadata": {},
   "outputs": [],
   "source": [
    "fn print<T: Display>(value: T) {\n",
    "    println!(\"value = {}\", value);\n",
    "}\n",
    "\n",
    "fn print<T: std::fmt::Debug>(value: T) {\n",
    "    println!(\"value = {:?}\", value);\n",
    "}"
   ]
  },
  {
   "cell_type": "code",
   "execution_count": 44,
   "metadata": {},
   "outputs": [],
   "source": [
    "fn print<T>(value: T) where T: std::fmt::Display {\n",
    "    println!(\"value = {}\", value);\n",
    "}"
   ]
  },
  {
   "cell_type": "code",
   "execution_count": 49,
   "metadata": {},
   "outputs": [
    {
     "name": "stdout",
     "output_type": "stream",
     "text": [
      "\"tea\" != \"coffee\"\n"
     ]
    }
   ],
   "source": [
    "fn compare<T>(left: T, right: T) where T: std::fmt::Debug + PartialEq, {\n",
    "    println!(\"{:?} {} {:?}\", left, if left == right { \"==\" } else { \"!=\" }, right);\n",
    "}\n",
    "\n",
    "compare(\"tea\", \"coffee\");"
   ]
  },
  {
   "cell_type": "code",
   "execution_count": 47,
   "metadata": {},
   "outputs": [
    {
     "name": "stdout",
     "output_type": "stream",
     "text": [
      "i32\n",
      "(f64, char)\n"
     ]
    }
   ],
   "source": [
    "use std::any::type_name;\n",
    "println!(\"{}\", type_name::<i32>());\n",
    "println!(\"{}\", type_name::<(f64, char)>());"
   ]
  },
  {
   "cell_type": "markdown",
   "metadata": {},
   "source": [
    "This is lovingly called turbofish syntax, because ::<> looks like a fish."
   ]
  },
  {
   "cell_type": "code",
   "execution_count": 50,
   "metadata": {},
   "outputs": [
    {
     "name": "stdout",
     "output_type": "stream",
     "text": [
      "ctx::Pair<i32>\n",
      "ctx::Pair<bool>\n"
     ]
    }
   ],
   "source": [
    "struct Pair<T> {\n",
    "    a: T,\n",
    "    b: T,\n",
    "}\n",
    "\n",
    "fn print_type_name<T>(_val: &T) {\n",
    "    println!(\"{}\", std::any::type_name::<T>());\n",
    "}\n",
    "\n",
    "let p1 = Pair {a: 3, b: 9};\n",
    "let p2 = Pair {a: true, b: false};\n",
    "print_type_name(&p1);\n",
    "print_type_name(&p2);"
   ]
  },
  {
   "cell_type": "code",
   "execution_count": 51,
   "metadata": {},
   "outputs": [
    {
     "name": "stdout",
     "output_type": "stream",
     "text": [
      "alloc::vec::Vec<i32>\n",
      "alloc::vec::Vec<bool>\n"
     ]
    }
   ],
   "source": [
    "let mut v1 = Vec::new();\n",
    "v1.push(1);\n",
    "let mut v2 = Vec::new();\n",
    "v2.push(false);\n",
    "print_type_name(&v1);\n",
    "print_type_name(&v2);"
   ]
  },
  {
   "cell_type": "code",
   "execution_count": 52,
   "metadata": {},
   "outputs": [
    {
     "name": "stdout",
     "output_type": "stream",
     "text": [
      "alloc::vec::Vec<i32>\n",
      "alloc::vec::Vec<bool>\n"
     ]
    }
   ],
   "source": [
    "let v1 = vec![1, 2, 3];\n",
    "let v2 = vec![true, false, true];\n",
    "print_type_name(&v1);\n",
    "print_type_name(&v2);"
   ]
  },
  {
   "cell_type": "code",
   "execution_count": 53,
   "metadata": {},
   "outputs": [
    {
     "name": "stdout",
     "output_type": "stream",
     "text": [
      "Hello there!\n"
     ]
    }
   ],
   "source": [
    "use std::io::{self, Write};\n",
    "io::stdout().lock().write_all(b\"Hello there!\\n\").unwrap();"
   ]
  },
  {
   "cell_type": "code",
   "execution_count": 54,
   "metadata": {},
   "outputs": [
    {
     "name": "stderr",
     "output_type": "stream",
     "text": [
      "thread '<unnamed>' panicked at 'This panics', src/lib.rs:186:1\n",
      "stack backtrace:\n",
      "   0: std::panicking::begin_panic\n",
      "   1: _run_user_code_33\n",
      "   2: evcxr::runtime::Runtime::run_loop\n",
      "   3: evcxr::runtime::runtime_hook\n",
      "   4: evcxr_jupyter::main\n",
      "note: Some details are omitted, run with `RUST_BACKTRACE=full` for a verbose backtrace.\n",
      "Segmentation fault.\n",
      "   0: backtrace::backtrace::trace\n",
      "   1: backtrace::capture::Backtrace::new\n",
      "   2: evcxr::runtime::Runtime::install_crash_handlers::segfault_handler\n",
      "   3: __sigtramp\n",
      "   4: core::ptr::drop_in_place\n",
      "             at /rustc/7eac88abb2e57e752f3302f02be5f3ce3d7adfb4/library/core/src/ptr/mod.rs:175:1\n",
      "      core::ptr::drop_in_place\n",
      "             at /rustc/7eac88abb2e57e752f3302f02be5f3ce3d7adfb4/library/core/src/ptr/mod.rs:175:1\n",
      "      core::result::Result<T,E>::unwrap_or\n",
      "             at /rustc/7eac88abb2e57e752f3302f02be5f3ce3d7adfb4/library/core/src/result.rs:805:5\n",
      "      std::rt::lang_start_internal\n",
      "             at /rustc/7eac88abb2e57e752f3302f02be5f3ce3d7adfb4/library/std/src/rt.rs:54:9\n",
      "   5: _main\n",
      "\n"
     ]
    },
    {
     "ename": "Error",
     "evalue": "Child process terminated with status: signal: 6",
     "output_type": "error",
     "traceback": [
      "Child process terminated with status: signal: 6"
     ]
    }
   ],
   "source": [
    "panic!(\"This panics\");"
   ]
  },
  {
   "cell_type": "code",
   "execution_count": 57,
   "metadata": {},
   "outputs": [],
   "source": [
    "let o1: Option<i32> = Some(128);\n",
    "o1.unwrap(); // this is fine"
   ]
  },
  {
   "cell_type": "code",
   "execution_count": 56,
   "metadata": {},
   "outputs": [
    {
     "name": "stderr",
     "output_type": "stream",
     "text": [
      "thread '<unnamed>' panicked at 'called `Option::unwrap()` on a `None` value', src/lib.rs:169:4\n",
      "stack backtrace:\n",
      "   0: _rust_begin_unwind\n",
      "   1: core::panicking::panic_fmt\n",
      "   2: core::panicking::panic\n",
      "   3: core::option::Option<T>::unwrap\n",
      "   4: _run_user_code_34\n",
      "   5: evcxr::runtime::Runtime::run_loop\n",
      "   6: evcxr::runtime::runtime_hook\n",
      "   7: evcxr_jupyter::main\n",
      "note: Some details are omitted, run with `RUST_BACKTRACE=full` for a verbose backtrace.\n"
     ]
    },
    {
     "ename": "Error",
     "evalue": "Child process terminated with status: exit code: 101",
     "output_type": "error",
     "traceback": [
      "Child process terminated with status: exit code: 101"
     ]
    }
   ],
   "source": [
    "let o2: Option<i32> = None;\n",
    "o2.unwrap();"
   ]
  },
  {
   "cell_type": "code",
   "execution_count": 58,
   "metadata": {},
   "outputs": [
    {
     "name": "stdout",
     "output_type": "stream",
     "text": [
      "x = 42\n"
     ]
    },
    {
     "data": {
      "text/plain": [
       "()"
      ]
     },
     "execution_count": 58,
     "metadata": {},
     "output_type": "execute_result"
    }
   ],
   "source": [
    "{\n",
    "    let x = 42;\n",
    "    println!(\"x = {}\", x);\n",
    "}"
   ]
  },
  {
   "cell_type": "code",
   "execution_count": 59,
   "metadata": {},
   "outputs": [
    {
     "name": "stdout",
     "output_type": "stream",
     "text": [
      "x_ref = 42\n"
     ]
    },
    {
     "data": {
      "text/plain": [
       "()"
      ]
     },
     "execution_count": 59,
     "metadata": {},
     "output_type": "execute_result"
    }
   ],
   "source": [
    "{\n",
    "    let x = 42;\n",
    "    let x_ref = &x;\n",
    "    println!(\"x_ref = {}\", x_ref);\n",
    "}"
   ]
  },
  {
   "cell_type": "code",
   "execution_count": 63,
   "metadata": {},
   "outputs": [
    {
     "ename": "Error",
     "evalue": "`x` does not live long enough",
     "output_type": "error",
     "traceback": [
      "    &x",
      "\u001b[91m    ^^\u001b[0m \u001b[94mborrowed value does not live long enough\u001b[0m",
      "};",
      "\u001b[91m^\u001b[0m \u001b[94m`x` dropped here while still borrowed\u001b[0m",
      "`x` does not live long enough"
     ]
    }
   ],
   "source": [
    "let x_ref = {\n",
    "    let x = 42;\n",
    "    &x\n",
    "};"
   ]
  },
  {
   "cell_type": "code",
   "execution_count": 69,
   "metadata": {},
   "outputs": [
    {
     "name": "stdout",
     "output_type": "stream",
     "text": [
      "42, 42, 42\n"
     ]
    },
    {
     "data": {
      "text/plain": [
       "()"
      ]
     },
     "execution_count": 69,
     "metadata": {},
     "output_type": "execute_result"
    }
   ],
   "source": [
    "{\n",
    "    let x = 42;\n",
    "    let x_ref1 = &x;\n",
    "    let x_ref2 = &x;\n",
    "    let x_ref3 = &x;\n",
    "\n",
    "    println!(\"{}, {}, {}\", x_ref1, x_ref2, x_ref3);\n",
    "}"
   ]
  },
  {
   "cell_type": "code",
   "execution_count": 70,
   "metadata": {},
   "outputs": [
    {
     "ename": "Error",
     "evalue": "value assigned to `x` is never read",
     "output_type": "error",
     "traceback": [
      "    x = 13;",
      "\u001b[91m    ^\u001b[0m \u001b[94m\u001b[0m",
      "value assigned to `x` is never read"
     ]
    },
    {
     "ename": "Error",
     "evalue": "cannot assign to `x` because it is borrowed",
     "output_type": "error",
     "traceback": [
      "    let x_ref = &x;",
      "\u001b[91m                ^^\u001b[0m \u001b[94mborrow of `x` occurs here\u001b[0m",
      "    x = 13;",
      "\u001b[91m    ^^^^^^\u001b[0m \u001b[94massignment to borrowed `x` occurs here\u001b[0m",
      "    println!(\"{}\", x_ref);",
      "\u001b[91m                   ^^^^^\u001b[0m \u001b[94mborrow later used here\u001b[0m",
      "cannot assign to `x` because it is borrowed"
     ]
    }
   ],
   "source": [
    "{\n",
    "    let mut x = 42;\n",
    "    let x_ref = &x;\n",
    "    x = 13;\n",
    "    println!(\"{}\", x_ref);\n",
    "}"
   ]
  },
  {
   "cell_type": "code",
   "execution_count": 71,
   "metadata": {},
   "outputs": [
    {
     "ename": "Error",
     "evalue": "unused variable: `x_ref2`",
     "output_type": "error",
     "traceback": [
      "    let x_ref2 = &mut x;",
      "\u001b[91m        ^^^^^^\u001b[0m \u001b[94m\u001b[0m",
      "unused variable: `x_ref2`"
     ]
    },
    {
     "ename": "Error",
     "evalue": "cannot borrow `x` as mutable because it is also borrowed as immutable",
     "output_type": "error",
     "traceback": [
      "    let x_ref2 = &mut x;",
      "\u001b[91m                 ^^^^^^\u001b[0m \u001b[94mmutable borrow occurs here\u001b[0m",
      "    let x_ref1 = &x;",
      "\u001b[91m                 ^^\u001b[0m \u001b[94mimmutable borrow occurs here\u001b[0m",
      "    println!(\"x_ref1 = {}\", x_ref1);",
      "\u001b[91m                            ^^^^^^\u001b[0m \u001b[94mimmutable borrow later used here\u001b[0m",
      "cannot borrow `x` as mutable because it is also borrowed as immutable"
     ]
    }
   ],
   "source": [
    "{\n",
    "    let mut x = 42;\n",
    "    let x_ref1 = &x;\n",
    "    let x_ref2 = &mut x;\n",
    "    println!(\"x_ref1 = {}\", x_ref1);\n",
    "}"
   ]
  },
  {
   "cell_type": "markdown",
   "metadata": {},
   "source": [
    "Functions with reference arguments can be called with borrows that have different lifetimes, so:\n",
    "\n",
    "    All functions that take references are generic\n",
    "    Lifetimes are generic parameters\n",
    "\n",
    "Lifetimes' names start with a single quote, '"
   ]
  },
  {
   "cell_type": "code",
   "execution_count": 73,
   "metadata": {},
   "outputs": [],
   "source": [
    "// elided (non-named) lifetime:\n",
    "fn print(x: &i32) {}\n",
    "\n",
    "// named lifetimes:\n",
    "fn print<'a>(x: &'a i32) {}"
   ]
  },
  {
   "cell_type": "code",
   "execution_count": 7,
   "metadata": {},
   "outputs": [
    {
     "name": "stdout",
     "output_type": "stream",
     "text": [
      "NumberV { value: 47 } 47\n"
     ]
    },
    {
     "data": {
      "text/plain": [
       "()"
      ]
     },
     "execution_count": 7,
     "metadata": {},
     "output_type": "execute_result"
    }
   ],
   "source": [
    "#[derive(Debug)]\n",
    "struct NumberV {\n",
    "    value: i32,\n",
    "}\n",
    "\n",
    "fn number_value<'a>(num: &'a NumberV) -> &'a i32 {\n",
    "    &num.value\n",
    "}\n",
    "{\n",
    "    let n = NumberV {value: 47};\n",
    "    let v = number_value(&n);\n",
    "    println!(\"{:?} {:?}\", n, v);\n",
    "}"
   ]
  },
  {
   "cell_type": "markdown",
   "metadata": {},
   "source": [
    "Structs can also be generic over lifetimes, which allows them to hold references"
   ]
  },
  {
   "cell_type": "code",
   "execution_count": 2,
   "metadata": {},
   "outputs": [
    {
     "data": {
      "text/plain": [
       "()"
      ]
     },
     "execution_count": 2,
     "metadata": {},
     "output_type": "execute_result"
    }
   ],
   "source": [
    "struct NumRef<'a> {\n",
    "    x: &'a i32,\n",
    "}\n",
    "\n",
    "{\n",
    "    let x: i32 = 99;\n",
    "    let x_ref = NumRef {x: &x};\n",
    "}"
   ]
  },
  {
   "cell_type": "code",
   "execution_count": 18,
   "metadata": {},
   "outputs": [],
   "source": [
    "fn as_num_ref<'a>(x: &'a i32) -> NumRef<'a> {\n",
    "    NumRef {x: &x}\n",
    "}"
   ]
  },
  {
   "cell_type": "code",
   "execution_count": 19,
   "metadata": {},
   "outputs": [],
   "source": [
    "fn as_num_ref(x: &i32) -> NumRef {\n",
    "    NumRef {x: &x}\n",
    "}"
   ]
  },
  {
   "cell_type": "code",
   "execution_count": 20,
   "metadata": {},
   "outputs": [],
   "source": [
    "fn as_num_ref(x: &i32) -> NumRef<'_> {\n",
    "    NumRef {x: &x}\n",
    "}"
   ]
  },
  {
   "cell_type": "code",
   "execution_count": 21,
   "metadata": {},
   "outputs": [
    {
     "data": {
      "text/plain": [
       "()"
      ]
     },
     "execution_count": 21,
     "metadata": {},
     "output_type": "execute_result"
    }
   ],
   "source": [
    "{\n",
    "    let x: i32 = 99;\n",
    "    let x_ref = as_num_ref(&x);\n",
    "}"
   ]
  },
  {
   "cell_type": "code",
   "execution_count": 3,
   "metadata": {},
   "outputs": [],
   "source": [
    "impl<'a> NumRef<'a> {\n",
    "    fn as_i32_ref(&'a self) -> &'a i32 {\n",
    "        self.x\n",
    "    }\n",
    "}"
   ]
  },
  {
   "cell_type": "code",
   "execution_count": 4,
   "metadata": {},
   "outputs": [
    {
     "data": {
      "text/plain": [
       "()"
      ]
     },
     "execution_count": 4,
     "metadata": {},
     "output_type": "execute_result"
    }
   ],
   "source": [
    "{\n",
    "    let x: i32 = 99;\n",
    "    let x_num_ref = NumRef {x: &x};\n",
    "    let x_i32_ref = x_num_ref.as_i32_ref();\n",
    "}"
   ]
  },
  {
   "cell_type": "code",
   "execution_count": 3,
   "metadata": {},
   "outputs": [],
   "source": [
    "impl<'a> NumRef<'a> {\n",
    "    fn as_i32_ref(&'a self) -> &'a i32 {\n",
    "        self.x\n",
    "    }\n",
    "}"
   ]
  },
  {
   "cell_type": "code",
   "execution_count": 3,
   "metadata": {},
   "outputs": [],
   "source": [
    "impl NumRef<'_> {\n",
    "    fn as_i32_ref(&self) -> &i32 {\n",
    "        self.x\n",
    "    }\n",
    "}"
   ]
  },
  {
   "cell_type": "code",
   "execution_count": 6,
   "metadata": {},
   "outputs": [
    {
     "data": {
      "text/plain": [
       "Person { name: \"fasterthanlime\" }"
      ]
     },
     "execution_count": 6,
     "metadata": {},
     "output_type": "execute_result"
    }
   ],
   "source": [
    "#[derive(Debug)]\n",
    "struct Person {\n",
    "    name: &'static str,\n",
    "}\n",
    "\n",
    "{\n",
    "    let p = Person {name: \"fasterthanlime\"};\n",
    "    p\n",
    "}"
   ]
  },
  {
   "cell_type": "code",
   "execution_count": 9,
   "metadata": {},
   "outputs": [
    {
     "ename": "Error",
     "evalue": "unused variable: `p`",
     "output_type": "error",
     "traceback": [
      "    let p = Person {name: &name };",
      "\u001b[91m        ^\u001b[0m \u001b[94m\u001b[0m",
      "unused variable: `p`"
     ]
    },
    {
     "ename": "Error",
     "evalue": "`name` does not live long enough",
     "output_type": "error",
     "traceback": [
      "    let p = Person {name: &name };",
      "\u001b[91m                          ^^^^^\u001b[0m \u001b[94mborrowed value does not live long enough\u001b[0m",
      "}",
      "\u001b[91m^\u001b[0m \u001b[94m`name` dropped here while still borrowed\u001b[0m",
      "    let p = Person {name: &name };",
      "\u001b[91m                          ^^^^^\u001b[0m \u001b[94mrequires that `name` is borrowed for `'static`\u001b[0m",
      "`name` does not live long enough"
     ]
    }
   ],
   "source": [
    "{\n",
    "    let name = format!(\"fastthan{}\", \"lime\");\n",
    "    let p = Person {name: &name };\n",
    "}"
   ]
  },
  {
   "cell_type": "code",
   "execution_count": 10,
   "metadata": {},
   "outputs": [
    {
     "data": {
      "text/plain": [
       "()"
      ]
     },
     "execution_count": 10,
     "metadata": {},
     "output_type": "execute_result"
    }
   ],
   "source": [
    "struct Person<'a> {\n",
    "    name: &'a str\n",
    "}\n",
    "\n",
    "{\n",
    "    let name = format!(\"fastthan{}\", \"lime\");\n",
    "    let p = Person {name: &name };\n",
    "}"
   ]
  },
  {
   "cell_type": "code",
   "execution_count": 12,
   "metadata": {},
   "outputs": [
    {
     "data": {
      "text/plain": [
       "()"
      ]
     },
     "execution_count": 12,
     "metadata": {},
     "output_type": "execute_result"
    }
   ],
   "source": [
    "struct Person {\n",
    "    name: String\n",
    "}\n",
    "{\n",
    "    let name = format!(\"fastthan{}\", \"lime\");\n",
    "    let p = Person {name};\n",
    "}"
   ]
  },
  {
   "cell_type": "code",
   "execution_count": 15,
   "metadata": {},
   "outputs": [
    {
     "name": "stdout",
     "output_type": "stream",
     "text": [
      "v2 = [3, 4]\n",
      "&[i32]\n"
     ]
    },
    {
     "data": {
      "text/plain": [
       "()"
      ]
     },
     "execution_count": 15,
     "metadata": {},
     "output_type": "execute_result"
    }
   ],
   "source": [
    "fn print_type_name<T>(_val: &T) {\n",
    "    println!(\"{}\", std::any::type_name::<T>());\n",
    "}\n",
    "\n",
    "{\n",
    "    let v = vec![1, 2, 3, 4, 5];\n",
    "    let v2 = &v[2..4];\n",
    "    println!(\"v2 = {:?}\", v2);\n",
    "    print_type_name(&v2);\n",
    "}"
   ]
  },
  {
   "cell_type": "code",
   "execution_count": 24,
   "metadata": {},
   "outputs": [
    {
     "name": "stdout",
     "output_type": "stream",
     "text": [
      "true\n",
      "false\n",
      "true\n",
      "true\n",
      "true\n"
     ]
    },
    {
     "data": {
      "text/plain": [
       "()"
      ]
     },
     "execution_count": 24,
     "metadata": {},
     "output_type": "execute_result"
    }
   ],
   "source": [
    "{\n",
    "    println!(\"{:?}\", (0..).contains(&100));\n",
    "    println!(\"{:?}\", (0..20).contains(&20));\n",
    "    println!(\"{:?}\", (0..=20).contains(&20));\n",
    "    println!(\"{:?}\", (3..6).contains(&4));\n",
    "    println!(\"{:?}\", (..6).contains(&-1));\n",
    "}"
   ]
  },
  {
   "cell_type": "code",
   "execution_count": 27,
   "metadata": {},
   "outputs": [
    {
     "name": "stdout",
     "output_type": "stream",
     "text": [
      "y = [2, 3, 4, 5]\n"
     ]
    },
    {
     "data": {
      "text/plain": [
       "()"
      ]
     },
     "execution_count": 27,
     "metadata": {},
     "output_type": "execute_result"
    }
   ],
   "source": [
    "fn tail<T>(s: &[T]) -> &[T] {\n",
    "    &s[1..]\n",
    "}\n",
    "\n",
    "{\n",
    "    let x = &[1, 2, 3, 4, 5];\n",
    "    let y = tail(x);\n",
    "    println!(\"y = {:?}\", y);\n",
    "}"
   ]
  },
  {
   "cell_type": "code",
   "execution_count": 35,
   "metadata": {},
   "outputs": [
    {
     "name": "stdout",
     "output_type": "stream",
     "text": [
      "y = [2, 3, 4, 5]\n"
     ]
    },
    {
     "data": {
      "text/plain": [
       "()"
      ]
     },
     "execution_count": 35,
     "metadata": {},
     "output_type": "execute_result"
    }
   ],
   "source": [
    "{\n",
    "    let y = {\n",
    "        let v = &[1, 2, 3, 4, 5];\n",
    "        tail(v)\n",
    "    };\n",
    "    println!(\"y = {:?}\", y);\n",
    "}"
   ]
  },
  {
   "cell_type": "code",
   "execution_count": 36,
   "metadata": {},
   "outputs": [
    {
     "name": "stdout",
     "output_type": "stream",
     "text": [
      "file extension: txt\n"
     ]
    },
    {
     "data": {
      "text/plain": [
       "()"
      ]
     },
     "execution_count": 36,
     "metadata": {},
     "output_type": "execute_result"
    }
   ],
   "source": [
    "fn file_ext(name: &str) -> Option<&str> {\n",
    "    name.split(\".\").last()\n",
    "}\n",
    "\n",
    "{\n",
    "    let name = \"Read me. Or don't.txt\";\n",
    "    if let Some(ext) = file_ext(name) {\n",
    "        println!(\"file extension: {}\", ext);\n",
    "    } else {\n",
    "        println!(\"no file extension\");\n",
    "    }\n",
    "}"
   ]
  },
  {
   "cell_type": "code",
   "execution_count": 40,
   "metadata": {},
   "outputs": [
    {
     "name": "stdout",
     "output_type": "stream",
     "text": [
      "file extension: txt\n"
     ]
    },
    {
     "data": {
      "text/plain": [
       "()"
      ]
     },
     "execution_count": 40,
     "metadata": {},
     "output_type": "execute_result"
    }
   ],
   "source": [
    "{\n",
    "    let name = String::from(\"Read me. Or don't.txt\");\n",
    "    if let Some(ext) = file_ext(&name) {\n",
    "        println!(\"file extension: {}\", ext);\n",
    "    } else {\n",
    "        println!(\"no file extension\");\n",
    "    }\n",
    "}"
   ]
  },
  {
   "cell_type": "code",
   "execution_count": 45,
   "metadata": {},
   "outputs": [
    {
     "name": "stdout",
     "output_type": "stream",
     "text": [
      "[u8; 5]\n"
     ]
    }
   ],
   "source": [
    "fn print_type_name<T>(_val: &T) {\n",
    "    println!(\"{}\", std::any::type_name::<T>());\n",
    "}\n",
    "print_type_name(&[1u8, 2, 3, 4, 5]);"
   ]
  },
  {
   "cell_type": "code",
   "execution_count": 50,
   "metadata": {},
   "outputs": [
    {
     "name": "stdout",
     "output_type": "stream",
     "text": [
      "Ok(\"🍉\")\n"
     ]
    },
    {
     "data": {
      "text/plain": [
       "()"
      ]
     },
     "execution_count": 50,
     "metadata": {},
     "output_type": "execute_result"
    }
   ],
   "source": [
    "{\n",
    "    let s = std::str::from_utf8(&[240, 159, 141, 137]);\n",
    "    println!(\"{:?}\", s);\n",
    "}"
   ]
  },
  {
   "cell_type": "code",
   "execution_count": 51,
   "metadata": {},
   "outputs": [
    {
     "name": "stderr",
     "output_type": "stream",
     "text": [
      "thread '<unnamed>' panicked at 'valid utf-8: Utf8Error { valid_up_to: 0, error_len: Some(1) }', src/lib.rs:45:45\n",
      "stack backtrace:\n",
      "   0: _rust_begin_unwind\n",
      "   1: core::panicking::panic_fmt\n",
      "   2: core::option::expect_none_failed\n",
      "   3: _run_user_code_32\n",
      "   4: evcxr::runtime::Runtime::run_loop\n",
      "   5: evcxr::runtime::runtime_hook\n",
      "   6: evcxr_jupyter::main\n",
      "note: Some details are omitted, run with `RUST_BACKTRACE=full` for a verbose backtrace.\n"
     ]
    },
    {
     "ename": "Error",
     "evalue": "Child process terminated with status: exit code: 101",
     "output_type": "error",
     "traceback": [
      "Child process terminated with status: exit code: 101"
     ]
    }
   ],
   "source": [
    "{\n",
    "    let s = std::str::from_utf8(&[195, 40]).expect(\"valid utf-8\");\n",
    "}"
   ]
  },
  {
   "cell_type": "code",
   "execution_count": 53,
   "metadata": {},
   "outputs": [
    {
     "name": "stdout",
     "output_type": "stream",
     "text": [
      "🍉\n"
     ]
    },
    {
     "data": {
      "text/plain": [
       "()"
      ]
     },
     "execution_count": 53,
     "metadata": {},
     "output_type": "execute_result"
    }
   ],
   "source": [
    "{\n",
    "    match std::str::from_utf8(&[240, 159, 141, 137]) {\n",
    "        Ok(s) => println!(\"{}\", s),\n",
    "        Err(e) => panic!(e),\n",
    "    }\n",
    "}"
   ]
  },
  {
   "cell_type": "code",
   "execution_count": 54,
   "metadata": {},
   "outputs": [
    {
     "name": "stdout",
     "output_type": "stream",
     "text": [
      "🍉\n"
     ]
    },
    {
     "data": {
      "text/plain": [
       "()"
      ]
     },
     "execution_count": 54,
     "metadata": {},
     "output_type": "execute_result"
    }
   ],
   "source": [
    "{\n",
    "    if let Ok(s) = std::str::from_utf8(&[240, 159, 141, 137]) {\n",
    "        println!(\"{}\", s);\n",
    "    }\n",
    "}"
   ]
  },
  {
   "cell_type": "code",
   "execution_count": 56,
   "metadata": {},
   "outputs": [
    {
     "name": "stdout",
     "output_type": "stream",
     "text": [
      "🍉\n"
     ]
    },
    {
     "data": {
      "text/plain": [
       "Ok(())"
      ]
     },
     "execution_count": 56,
     "metadata": {},
     "output_type": "execute_result"
    }
   ],
   "source": [
    "fn main() -> Result<(), std::str::Utf8Error> {\n",
    "    match std::str::from_utf8(&[240, 159, 141, 137]) {\n",
    "        Ok(s) => println!(\"{}\", s),\n",
    "        Err(e) => return Err(e),\n",
    "    }\n",
    "    Ok(())\n",
    "}\n",
    "main()"
   ]
  },
  {
   "cell_type": "code",
   "execution_count": 78,
   "metadata": {},
   "outputs": [
    {
     "name": "stdout",
     "output_type": "stream",
     "text": [
      "🍉\n"
     ]
    },
    {
     "data": {
      "text/plain": [
       "Ok(())"
      ]
     },
     "execution_count": 78,
     "metadata": {},
     "output_type": "execute_result"
    }
   ],
   "source": [
    "fn main() -> Result<(), std::str::Utf8Error> {\n",
    "    let s = std::str::from_utf8(&[240, 159, 141, 137])?;\n",
    "    println!(\"{}\", s);\n",
    "    Ok(())\n",
    "}\n",
    "main()"
   ]
  },
  {
   "cell_type": "code",
   "execution_count": 71,
   "metadata": {},
   "outputs": [
    {
     "data": {
      "text/plain": [
       "Err(Utf8Error { valid_up_to: 0, error_len: None })"
      ]
     },
     "execution_count": 71,
     "metadata": {},
     "output_type": "execute_result"
    }
   ],
   "source": [
    "fn main() -> Result<(), Box<dyn std::error::Error>> {\n",
    "    let s = std::str::from_utf8(&[240, 159])?;\n",
    "    println!(\"{}\", s);\n",
    "    Ok(())\n",
    "}\n",
    "main()"
   ]
  },
  {
   "cell_type": "code",
   "execution_count": 73,
   "metadata": {},
   "outputs": [
    {
     "name": "stdout",
     "output_type": "stream",
     "text": [
      "(1, 3)\n"
     ]
    },
    {
     "data": {
      "text/plain": [
       "()"
      ]
     },
     "execution_count": 73,
     "metadata": {},
     "output_type": "execute_result"
    }
   ],
   "source": [
    "struct Point {\n",
    "    x: f64,\n",
    "    y: f64,\n",
    "}\n",
    "\n",
    "{\n",
    "    let p = Point {x: 1.0, y: 3.0};\n",
    "    let p_ref = &p;\n",
    "    println!(\"({}, {})\", p_ref.x, p_ref.y);\n",
    "}"
   ]
  },
  {
   "cell_type": "code",
   "execution_count": 79,
   "metadata": {},
   "outputs": [
    {
     "ename": "Error",
     "evalue": "cannot move out of `*p_ref` which is behind a shared reference",
     "output_type": "error",
     "traceback": [
      "    negate(*p_ref);",
      "\u001b[91m           ^^^^^^\u001b[0m \u001b[94mmove occurs because `*p_ref` has type `Point`, which does not implement the `Copy` trait\u001b[0m",
      "cannot move out of `*p_ref` which is behind a shared reference"
     ]
    }
   ],
   "source": [
    "struct Point {\n",
    "    x: f64,\n",
    "    y: f64,\n",
    "}\n",
    "\n",
    "fn negate(p: Point) -> Point {\n",
    "    Point {\n",
    "        x: -p.x,\n",
    "        y: -p.y,\n",
    "    }\n",
    "}\n",
    "\n",
    "fn main() {\n",
    "    let p = Point { x: 1.0, y: 3.0 };\n",
    "    let p_ref = &p;\n",
    "    negate(*p_ref);\n",
    "    // error: cannot move out of `*p_ref` which is behind a shared reference\n",
    "}"
   ]
  },
  {
   "cell_type": "code",
   "execution_count": 80,
   "metadata": {},
   "outputs": [],
   "source": [
    "// now `Point` is `Copy`\n",
    "#[derive(Clone, Copy)]\n",
    "struct Point {\n",
    "    x: f64,\n",
    "    y: f64,\n",
    "}\n",
    "\n",
    "fn negate(p: Point) -> Point {\n",
    "    Point {\n",
    "        x: -p.x,\n",
    "        y: -p.y,\n",
    "    }\n",
    "}\n",
    "\n",
    "fn main() {\n",
    "    let p = Point { x: 1.0, y: 3.0 };\n",
    "    let p_ref = &p;\n",
    "    negate(*p_ref); // ...and now this works\n",
    "}"
   ]
  },
  {
   "cell_type": "code",
   "execution_count": 87,
   "metadata": {},
   "outputs": [
    {
     "name": "stdout",
     "output_type": "stream",
     "text": [
      "Hello Earth\n",
      "Hello Mars\n",
      "Hello Jupiter\n"
     ]
    },
    {
     "data": {
      "text/plain": [
       "()"
      ]
     },
     "execution_count": 87,
     "metadata": {},
     "output_type": "execute_result"
    }
   ],
   "source": [
    "fn for_each_planet<F>(f: F) where F: Fn(&'static str) {\n",
    "    f(\"Earth\");\n",
    "    f(\"Mars\");\n",
    "    f(\"Jupiter\");\n",
    "}\n",
    "\n",
    "{\n",
    "    for_each_planet(|planet| println!(\"Hello {}\", planet));\n",
    "}"
   ]
  },
  {
   "cell_type": "code",
   "execution_count": 88,
   "metadata": {},
   "outputs": [
    {
     "name": "stdout",
     "output_type": "stream",
     "text": [
      "Good to see you, Earth\n",
      "Good to see you, Mars\n",
      "Good to see you, Jupiter\n"
     ]
    },
    {
     "data": {
      "text/plain": [
       "()"
      ]
     },
     "execution_count": 88,
     "metadata": {},
     "output_type": "execute_result"
    }
   ],
   "source": [
    "{\n",
    "    let greeting = String::from(\"Good to see you\");\n",
    "    for_each_planet(|planet| println!(\"{}, {}\", greeting, planet));\n",
    "    // our closure borrows `greeting`, so it cannot outlive it\n",
    "}"
   ]
  },
  {
   "cell_type": "code",
   "execution_count": 89,
   "metadata": {},
   "outputs": [
    {
     "ename": "Error",
     "evalue": "closure may outlive the current function, but it borrows `greeting`, which is owned by the current function",
     "output_type": "error",
     "traceback": [
      "    for_each_planet(|planet| println!(\"{}, {}\", greeting, planet));",
      "\u001b[91m                                                ^^^^^^^^\u001b[0m \u001b[94m`greeting` is borrowed here\u001b[0m",
      "    for_each_planet(|planet| println!(\"{}, {}\", greeting, planet));",
      "\u001b[91m                    ^^^^^^^^\u001b[0m \u001b[94mmay outlive borrowed value `greeting`\u001b[0m",
      "closure may outlive the current function, but it borrows `greeting`, which is owned by the current function"
     ]
    }
   ],
   "source": [
    "fn for_each_planet<F>(f: F) where F: Fn(&'static str) + 'static // `F` must now have \"'static\" lifetime\n",
    "{\n",
    "    f(\"Earth\");\n",
    "    f(\"Mars\");\n",
    "    f(\"Jupiter\");\n",
    "}\n",
    "{\n",
    "    let greeting = String::from(\"Good to see you\");\n",
    "    for_each_planet(|planet| println!(\"{}, {}\", greeting, planet));\n",
    "    // our closure borrows `greeting`, so it cannot outlive it\n",
    "}"
   ]
  },
  {
   "cell_type": "code",
   "execution_count": 90,
   "metadata": {},
   "outputs": [
    {
     "name": "stdout",
     "output_type": "stream",
     "text": [
      "You're doing great, Earth\n",
      "You're doing great, Mars\n",
      "You're doing great, Jupiter\n"
     ]
    },
    {
     "data": {
      "text/plain": [
       "()"
      ]
     },
     "execution_count": 90,
     "metadata": {},
     "output_type": "execute_result"
    }
   ],
   "source": [
    "{\n",
    "    let greeting = String::from(\"You're doing great\");\n",
    "    for_each_planet(move |planet| println!(\"{}, {}\", greeting, planet));\n",
    "    // `greeting` is no longer borrowed, it is *moved* into\n",
    "    // the closure.\n",
    "}"
   ]
  },
  {
   "cell_type": "code",
   "execution_count": 91,
   "metadata": {},
   "outputs": [
    {
     "name": "stdout",
     "output_type": "stream",
     "text": [
      "8\n"
     ]
    },
    {
     "data": {
      "text/plain": [
       "()"
      ]
     },
     "execution_count": 91,
     "metadata": {},
     "output_type": "execute_result"
    }
   ],
   "source": [
    "fn foobar<F>(f: F) where F: Fn(i32) -> i32 {\n",
    "    println!(\"{}\", f(f(2))); \n",
    "}\n",
    " \n",
    "{\n",
    "    foobar(|x| x * 2);\n",
    "}\n"
   ]
  },
  {
   "cell_type": "code",
   "execution_count": 96,
   "metadata": {},
   "outputs": [
    {
     "ename": "Error",
     "evalue": "cannot borrow `f` as mutable more than once at a time",
     "output_type": "error",
     "traceback": [
      "    println!(\"{}\", f(f(2))); ",
      "\u001b[91m                   ^\u001b[0m \u001b[94mfirst mutable borrow occurs here\u001b[0m",
      "    println!(\"{}\", f(f(2))); ",
      "\u001b[91m                     ^\u001b[0m \u001b[94msecond mutable borrow occurs here\u001b[0m",
      "    println!(\"{}\", f(f(2))); ",
      "\u001b[91m                   ^\u001b[0m \u001b[94mfirst borrow later used by call\u001b[0m",
      "cannot borrow `f` as mutable more than once at a time"
     ]
    }
   ],
   "source": [
    "fn foobar<F>(mut f: F) where F: FnMut(i32) -> i32\n",
    "{\n",
    "    println!(\"{}\", f(f(2))); \n",
    "    // error: cannot borrow `f` as mutable more than once at a time\n",
    "}\n",
    " \n",
    "{\n",
    "    foobar(|x| x * 2);\n",
    "}"
   ]
  },
  {
   "cell_type": "code",
   "execution_count": 98,
   "metadata": {},
   "outputs": [
    {
     "name": "stdout",
     "output_type": "stream",
     "text": [
      "8\n"
     ]
    },
    {
     "data": {
      "text/plain": [
       "()"
      ]
     },
     "execution_count": 98,
     "metadata": {},
     "output_type": "execute_result"
    }
   ],
   "source": [
    "fn foobar<F>(mut f: F) where F: FnMut(i32) -> i32\n",
    "{\n",
    "    let tmp = f(2);\n",
    "    println!(\"{}\", f(tmp)); \n",
    "}\n",
    " \n",
    "{\n",
    "    foobar(|x| x * 2);\n",
    "}"
   ]
  },
  {
   "cell_type": "code",
   "execution_count": 100,
   "metadata": {},
   "outputs": [
    {
     "name": "stdout",
     "output_type": "stream",
     "text": [
      "24\n"
     ]
    },
    {
     "data": {
      "text/plain": [
       "()"
      ]
     },
     "execution_count": 100,
     "metadata": {},
     "output_type": "execute_result"
    }
   ],
   "source": [
    "fn foobar<F>(mut f: F) where F: FnMut(i32) -> i32\n",
    "{\n",
    "    let tmp = f(2);\n",
    "    println!(\"{}\", f(tmp)); \n",
    "}\n",
    " \n",
    "{\n",
    "    let mut acc = 2;\n",
    "    foobar(|x| {\n",
    "        acc += 1;\n",
    "        x * acc\n",
    "    });\n",
    "}"
   ]
  },
  {
   "cell_type": "code",
   "execution_count": 101,
   "metadata": {},
   "outputs": [
    {
     "ename": "Error",
     "evalue": "cannot assign to `acc`, as it is a captured variable in a `Fn` closure",
     "output_type": "error",
     "traceback": [
      "        acc += 1;",
      "\u001b[91m        ^^^^^^^^\u001b[0m \u001b[94mcannot assign\u001b[0m",
      "fn foobar<F>(f: F) where F: Fn(i32) -> i32 {",
      "\u001b[91m                ^\u001b[0m \u001b[94mchange this to accept `FnMut` instead of `Fn`\u001b[0m",
      "    foobar(|x| {",
      "\u001b[91m    ^^^^^^\u001b[0m \u001b[94mexpects `Fn` instead of `FnMut`\u001b[0m",
      "    foobar(|x| {",
      "        acc += 1;",
      "        x * acc",
      "    });",
      "\u001b[91m           \u001b[0m \u001b[94min this closure\u001b[0m",
      "cannot assign to `acc`, as it is a captured variable in a `Fn` closure"
     ]
    },
    {
     "ename": "Error",
     "evalue": "cannot assign to `acc`, as it is a captured variable in a `Fn` closure",
     "output_type": "error",
     "traceback": [
      "        acc += 1;",
      "\u001b[91m        ^^^^^^^^\u001b[0m \u001b[94mcannot assign\u001b[0m",
      "fn foobar<F>(f: F) where F: Fn(i32) -> i32 {",
      "\u001b[91m                ^\u001b[0m \u001b[94mchange this to accept `FnMut` instead of `Fn`\u001b[0m",
      "    foobar(|x| {",
      "\u001b[91m    ^^^^^^\u001b[0m \u001b[94mexpects `Fn` instead of `FnMut`\u001b[0m",
      "    foobar(|x| {",
      "        acc += 1;",
      "        // error: cannot assign to `acc`, as it is a",
      "        // captured variable in a `Fn` closure.",
      "        // the compiler suggests \"changing foobar",
      "        // to accept closures that implement `FnMut`\"",
      "        x * acc",
      "    });",
      "\u001b[91m           \u001b[0m \u001b[94min this closure\u001b[0m",
      "cannot assign to `acc`, as it is a captured variable in a `Fn` closure"
     ]
    }
   ],
   "source": [
    "fn foobar<F>(f: F) where F: Fn(i32) -> i32 {\n",
    "    println!(\"{}\", f(f(2))); \n",
    "}\n",
    " \n",
    "{\n",
    "    let mut acc = 2;\n",
    "    foobar(|x| {\n",
    "        acc += 1;\n",
    "        // error: cannot assign to `acc`, as it is a\n",
    "        // captured variable in a `Fn` closure.\n",
    "        // the compiler suggests \"changing foobar\n",
    "        // to accept closures that implement `FnMut`\"\n",
    "        x * acc\n",
    "    });\n",
    "}"
   ]
  },
  {
   "cell_type": "code",
   "execution_count": 2,
   "metadata": {},
   "outputs": [
    {
     "name": "stdout",
     "output_type": "stream",
     "text": [
      "alright\n"
     ]
    },
    {
     "data": {
      "text/plain": [
       "()"
      ]
     },
     "execution_count": 2,
     "metadata": {},
     "output_type": "execute_result"
    }
   ],
   "source": [
    "fn foobar<F>(f: F) where F: FnOnce() -> String {\n",
    "    println!(\"{}\", f()); \n",
    "}\n",
    " \n",
    "{\n",
    "    let s = String::from(\"alright\");\n",
    "    foobar(move || s);\n",
    "    // `s` was moved into our closure, and our closures moves it to the caller by returning\n",
    "    // it. Remember that `String` is not `Copy`.\n",
    "}"
   ]
  },
  {
   "cell_type": "code",
   "execution_count": 3,
   "metadata": {},
   "outputs": [
    {
     "ename": "Error",
     "evalue": "use of moved value: `f`",
     "output_type": "error",
     "traceback": [
      "    println!(\"{}\", f()); ",
      "\u001b[91m                   ^^^\u001b[0m \u001b[94m`f` moved due to this call\u001b[0m",
      "    println!(\"{}\", f()); ",
      "\u001b[91m                   ^\u001b[0m \u001b[94mvalue used here after move\u001b[0m",
      "fn foobar<F>(f: F) where F: FnOnce() -> String {",
      "\u001b[91m             ^\u001b[0m \u001b[94mmove occurs because `f` has type `F`, which does not implement the `Copy` trait\u001b[0m",
      "use of moved value: `f`"
     ]
    }
   ],
   "source": [
    "fn foobar<F>(f: F) where F: FnOnce() -> String {\n",
    "    println!(\"{}\", f()); \n",
    "    println!(\"{}\", f()); \n",
    "    // error: use of moved value: `f`\n",
    "}"
   ]
  },
  {
   "cell_type": "code",
   "execution_count": 4,
   "metadata": {},
   "outputs": [
    {
     "ename": "Error",
     "evalue": "use of moved value: `s`",
     "output_type": "error",
     "traceback": [
      "    foobar(move || s);",
      "\u001b[91m           ^^^^^^^\u001b[0m \u001b[94mvalue moved into closure here\u001b[0m",
      "    foobar(move || s);",
      "\u001b[91m                   ^\u001b[0m \u001b[94mvariable moved due to use in closure\u001b[0m",
      "    foobar(move || s);",
      "\u001b[91m                   ^\u001b[0m \u001b[94muse occurs due to use in closure\u001b[0m",
      "    foobar(move || s);",
      "\u001b[91m           ^^^^^^^\u001b[0m \u001b[94mvalue used here after move\u001b[0m",
      "    let s = String::from(\"alright\");",
      "\u001b[91m        ^\u001b[0m \u001b[94mmove occurs because `s` has type `String`, which does not implement the `Copy` trait\u001b[0m",
      "use of moved value: `s`"
     ]
    }
   ],
   "source": [
    "{\n",
    "    let s = String::from(\"alright\");\n",
    "    foobar(move || s);\n",
    "    foobar(move || s);\n",
    "    // use of moved value: `s`\n",
    "}"
   ]
  },
  {
   "cell_type": "code",
   "execution_count": 5,
   "metadata": {},
   "outputs": [
    {
     "name": "stdout",
     "output_type": "stream",
     "text": [
      "alright\n",
      "alright\n"
     ]
    },
    {
     "data": {
      "text/plain": [
       "()"
      ]
     },
     "execution_count": 5,
     "metadata": {},
     "output_type": "execute_result"
    }
   ],
   "source": [
    "{\n",
    "    let s = String::from(\"alright\");\n",
    "    foobar(|| s.clone());\n",
    "    foobar(|| s.clone());\n",
    "}"
   ]
  },
  {
   "cell_type": "code",
   "execution_count": 6,
   "metadata": {},
   "outputs": [
    {
     "name": "stdout",
     "output_type": "stream",
     "text": [
      "64 is greater than 32\n"
     ]
    },
    {
     "data": {
      "text/plain": [
       "()"
      ]
     },
     "execution_count": 6,
     "metadata": {},
     "output_type": "execute_result"
    }
   ],
   "source": [
    "fn foobar<F>(x: i32, y: i32, is_greater: F) where F: Fn(i32, i32) -> bool\n",
    "{\n",
    "    let (greater, smaller) = if is_greater(x, y) {\n",
    "        (x, y)\n",
    "    } else {\n",
    "        (y, x)\n",
    "    };\n",
    "    println!(\"{} is greater than {}\", greater, smaller);\n",
    "}\n",
    "\n",
    "{\n",
    "    foobar(32, 64, |x, y| x > y);\n",
    "}"
   ]
  },
  {
   "cell_type": "code",
   "execution_count": 7,
   "metadata": {},
   "outputs": [
    {
     "name": "stderr",
     "output_type": "stream",
     "text": [
      "thread '<unnamed>' panicked at 'Comparing is futile!', src/lib.rs:32:27\n",
      "stack backtrace:\n",
      "   0: std::panicking::begin_panic\n",
      "   1: ctx::run_user_code_5::{{closure}}\n",
      "   2: _run_user_code_5\n",
      "   3: evcxr::runtime::Runtime::run_loop\n",
      "   4: evcxr::runtime::runtime_hook\n",
      "   5: evcxr_jupyter::main\n",
      "note: Some details are omitted, run with `RUST_BACKTRACE=full` for a verbose backtrace.\n",
      "Segmentation fault.\n",
      "   0: backtrace::backtrace::trace\n",
      "   1: backtrace::capture::Backtrace::new\n",
      "   2: evcxr::runtime::Runtime::install_crash_handlers::segfault_handler\n",
      "   3: __sigtramp\n",
      "   4: core::ptr::drop_in_place\n",
      "             at /rustc/7eac88abb2e57e752f3302f02be5f3ce3d7adfb4/library/core/src/ptr/mod.rs:175:1\n",
      "      core::ptr::drop_in_place\n",
      "             at /rustc/7eac88abb2e57e752f3302f02be5f3ce3d7adfb4/library/core/src/ptr/mod.rs:175:1\n",
      "      core::result::Result<T,E>::unwrap_or\n",
      "             at /rustc/7eac88abb2e57e752f3302f02be5f3ce3d7adfb4/library/core/src/result.rs:805:5\n",
      "      std::rt::lang_start_internal\n",
      "             at /rustc/7eac88abb2e57e752f3302f02be5f3ce3d7adfb4/library/std/src/rt.rs:54:9\n",
      "   5: _main\n",
      "\n"
     ]
    },
    {
     "ename": "Error",
     "evalue": "Child process terminated with status: signal: 6",
     "output_type": "error",
     "traceback": [
      "Child process terminated with status: signal: 6"
     ]
    }
   ],
   "source": [
    "{\n",
    "    foobar(32, 64, |_, _| panic!(\"Comparing is futile!\"));\n",
    "}"
   ]
  },
  {
   "cell_type": "code",
   "execution_count": 8,
   "metadata": {},
   "outputs": [
    {
     "name": "stdout",
     "output_type": "stream",
     "text": [
      "tick 3...\n",
      "tick 2...\n",
      "tick 1...\n"
     ]
    },
    {
     "data": {
      "text/plain": [
       "()"
      ]
     },
     "execution_count": 8,
     "metadata": {},
     "output_type": "execute_result"
    }
   ],
   "source": [
    "fn countdown<F>(count: usize, tick: F) where F: Fn(usize)\n",
    "{\n",
    "    for i in (1..=count).rev() {\n",
    "        tick(i);\n",
    "    }\n",
    "}\n",
    "\n",
    "{\n",
    "    countdown(3, |i| println!(\"tick {}...\", i));\n",
    "}"
   ]
  },
  {
   "cell_type": "code",
   "execution_count": 9,
   "metadata": {},
   "outputs": [
    {
     "data": {
      "text/plain": [
       "()"
      ]
     },
     "execution_count": 9,
     "metadata": {},
     "output_type": "execute_result"
    }
   ],
   "source": [
    "{\n",
    "    countdown(3, |_| ());\n",
    "}"
   ]
  },
  {
   "cell_type": "code",
   "execution_count": 10,
   "metadata": {},
   "outputs": [
    {
     "name": "stdout",
     "output_type": "stream",
     "text": [
      "I like the number 52\n",
      "I like the number 49\n",
      "I like the number 21\n"
     ]
    },
    {
     "data": {
      "text/plain": [
       "()"
      ]
     },
     "execution_count": 10,
     "metadata": {},
     "output_type": "execute_result"
    }
   ],
   "source": [
    "{\n",
    "    for i in vec![52, 49, 21] {\n",
    "        println!(\"I like the number {}\", i);\n",
    "    }\n",
    "}"
   ]
  },
  {
   "cell_type": "code",
   "execution_count": 11,
   "metadata": {},
   "outputs": [
    {
     "name": "stdout",
     "output_type": "stream",
     "text": [
      "I like the number 52\n",
      "I like the number 49\n",
      "I like the number 21\n"
     ]
    },
    {
     "data": {
      "text/plain": [
       "()"
      ]
     },
     "execution_count": 11,
     "metadata": {},
     "output_type": "execute_result"
    }
   ],
   "source": [
    "{ \n",
    "    for i in &[52, 49, 21] {\n",
    "        println!(\"I like the number {}\", i);\n",
    "    }\n",
    "}"
   ]
  },
  {
   "cell_type": "code",
   "execution_count": 12,
   "metadata": {},
   "outputs": [
    {
     "name": "stdout",
     "output_type": "stream",
     "text": [
      "Give me a r\n",
      "Give me a u\n",
      "Give me a s\n",
      "Give me a t\n"
     ]
    },
    {
     "data": {
      "text/plain": [
       "()"
      ]
     },
     "execution_count": 12,
     "metadata": {},
     "output_type": "execute_result"
    }
   ],
   "source": [
    "{\n",
    "    for c in \"rust\".chars() {\n",
    "        println!(\"Give me a {}\", c);\n",
    "    }\n",
    "}"
   ]
  },
  {
   "cell_type": "code",
   "execution_count": 13,
   "metadata": {},
   "outputs": [
    {
     "name": "stdout",
     "output_type": "stream",
     "text": [
      "he's ok\n"
     ]
    },
    {
     "data": {
      "text/plain": [
       "()"
      ]
     },
     "execution_count": 13,
     "metadata": {},
     "output_type": "execute_result"
    }
   ],
   "source": [
    "{\n",
    "    for c in \"sHE'S brOKen\"\n",
    "        .chars()\n",
    "        .filter(|c| c.is_uppercase() || !c.is_ascii_alphabetic())\n",
    "        .flat_map(|c| c.to_lowercase())\n",
    "    {\n",
    "        print!(\"{}\", c);\n",
    "    }\n",
    "    println!();\n",
    "}"
   ]
  },
  {
   "cell_type": "code",
   "execution_count": 17,
   "metadata": {},
   "outputs": [
    {
     "name": "stdout",
     "output_type": "stream",
     "text": [
      "false\n",
      "true\n"
     ]
    },
    {
     "data": {
      "text/plain": [
       "()"
      ]
     },
     "execution_count": 17,
     "metadata": {},
     "output_type": "execute_result"
    }
   ],
   "source": [
    "fn make_tester(answer: String) -> impl Fn(&str) -> bool {\n",
    "    move |challenge| {\n",
    "        challenge == answer\n",
    "    }\n",
    "}\n",
    "\n",
    "{\n",
    "    // you can use `.into()` to perform conversions between various types, here `&'static str` and `String`\n",
    "    let test = make_tester(\"hunter2\".into());\n",
    "    println!(\"{}\", test(\"******\"));\n",
    "    println!(\"{}\", test(\"hunter2\"));\n",
    "}"
   ]
  },
  {
   "cell_type": "code",
   "execution_count": 18,
   "metadata": {},
   "outputs": [
    {
     "name": "stdout",
     "output_type": "stream",
     "text": [
      "false\n",
      "true\n"
     ]
    },
    {
     "data": {
      "text/plain": [
       "()"
      ]
     },
     "execution_count": 18,
     "metadata": {},
     "output_type": "execute_result"
    }
   ],
   "source": [
    "fn make_tester<'a>(answer: &'a str) -> impl Fn(&str) -> bool + 'a {\n",
    "    move |challenge| {\n",
    "        challenge == answer\n",
    "    }\n",
    "}\n",
    "\n",
    "{\n",
    "    let test = make_tester(\"hunter2\");\n",
    "    println!(\"{}\", test(\"*******\"));\n",
    "    println!(\"{}\", test(\"hunter2\"));\n",
    "}"
   ]
  },
  {
   "cell_type": "code",
   "execution_count": 19,
   "metadata": {},
   "outputs": [
    {
     "name": "stdout",
     "output_type": "stream",
     "text": [
      "false\n",
      "true\n"
     ]
    },
    {
     "data": {
      "text/plain": [
       "()"
      ]
     },
     "execution_count": 19,
     "metadata": {},
     "output_type": "execute_result"
    }
   ],
   "source": [
    "fn make_tester(answer: &str) -> impl Fn(&str) -> bool + '_ {\n",
    "    move |challenge| {\n",
    "        challenge == answer\n",
    "    }\n",
    "}\n",
    "\n",
    "{\n",
    "    let test = make_tester(\"hunter2\");\n",
    "    println!(\"{}\", test(\"*******\"));\n",
    "    println!(\"{}\", test(\"hunter2\"));\n",
    "}"
   ]
  },
  {
   "cell_type": "code",
   "execution_count": null,
   "metadata": {},
   "outputs": [],
   "source": []
  }
 ],
 "metadata": {
  "kernelspec": {
   "display_name": "Rust",
   "language": "rust",
   "name": "rust"
  },
  "language_info": {
   "codemirror_mode": "rust",
   "file_extension": ".rs",
   "mimetype": "text/rust",
   "name": "Rust",
   "pygment_lexer": "rust",
   "version": ""
  }
 },
 "nbformat": 4,
 "nbformat_minor": 4
}
